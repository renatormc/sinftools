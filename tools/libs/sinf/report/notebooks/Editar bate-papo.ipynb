{
 "cells": [
  {
   "cell_type": "markdown",
   "metadata": {},
   "source": [
    "## Carregar"
   ]
  },
  {
   "cell_type": "code",
   "execution_count": 2,
   "metadata": {},
   "outputs": [],
   "source": [
    "import pandas as pd\n",
    "df = pd.read_pickle(\"..\\\\save\\\\df_chats\")"
   ]
  },
  {
   "cell_type": "markdown",
   "metadata": {},
   "source": [
    "## Salvar"
   ]
  },
  {
   "cell_type": "code",
   "execution_count": 8,
   "metadata": {},
   "outputs": [],
   "source": [
    "df.to_pickle(\"..\\\\save\\\\df_chats\")"
   ]
  },
  {
   "cell_type": "markdown",
   "metadata": {},
   "source": [
    "##  Manipulações"
   ]
  },
  {
   "cell_type": "code",
   "execution_count": 6,
   "metadata": {},
   "outputs": [],
   "source": []
  },
  {
   "cell_type": "code",
   "execution_count": null,
   "metadata": {
    "scrolled": true
   },
   "outputs": [],
   "source": []
  },
  {
   "cell_type": "markdown",
   "metadata": {},
   "source": [
    "# Exemplos\n",
    "\n",
    "## Estatísticas\n",
    "\n",
    "#### Listar todos os chats existentes\n",
    "```python\n",
    "for key in df.groupby('formatted_chat_name').groups.keys():\n",
    "    print(key)\n",
    "```\n",
    "\n",
    "#### Listar todos os chats de que o contato \"Menoor da Beka\" participa\n",
    "```python\n",
    "for key in df[df['participants'].str.contains('Menoor da Beka')].groupby('formatted_chat_name').groups.keys():\n",
    "    print(key)\n",
    "```\n",
    "\n",
    "#### Mostrar em qual chat o contato \"Tal Do Max\" é mais ativo. Contar quantas mensagens ele postou em cada chat\n",
    "```python\n",
    "df[df['from'].str.contains(\"Tal Do Max\")].groupby(\"formatted_chat_name\").size().sort_values(ascending=False)\n",
    "```\n",
    "\n",
    "#### Listar os aplicativos\n",
    "```python\n",
    "df.groupby('app').groups.keys()\n",
    "```\n",
    "\n",
    "#### Ver quem mais mandou mensagens no total\n",
    "```python\n",
    "df['from'].value_counts()\n",
    "```\n",
    "\n",
    "## Filtros\n",
    "\n",
    "#### Somente Facebook e Whatsapp\n",
    "```python\n",
    "df[(df['app'] == 'WhatsApp') | (df['app'] == 'Facebook messenger')]\n",
    "```\n",
    "\n",
    "#### Somente WhatsApp\n",
    "```python\n",
    "df[(df['app'] == 'WhatsApp')]\n",
    "```\n",
    "\n",
    "#### Somente grupos que contenham no nome a palavra 'barraco'\n",
    "```python\n",
    "df[df['chat_name'].str.contains('barraco')]\n",
    "```\n",
    "\n",
    "#### Somente mensagens entre dois horários\n",
    "```python\n",
    "df[(df['timestamp'] > '2017-09-29 00:00:00') & (df['timestamp'] < '2017-09-29 23:59:59')]\n",
    "```\n",
    "\n",
    "#### Somente mensagens enviadas na madruga entre 00:00:00 e 06:00:00, independente do dia.\n",
    "```python\n",
    "import datetime\n",
    "df[(df.timestamp.dt.time >= datetime.time(0,0,0)) & (df.timestamp.dt.time <= datetime.time(6,0,0))]\n",
    "```\n",
    "\n",
    "#### Somente mensagens dos grupos 12, 13 e 15 e em um período específico\n",
    "```python\n",
    "df[df.chat_id.isin(['12', '13', '15']) & (df['timestamp'] > '2017-09-29 00:00:00') & (df['timestamp'] < '2017-09-29 23:59:59')]\n",
    "```\n",
    "\n",
    "#### Somente mensagens com a palavra 'maconha'\n",
    "```python\n",
    "df[df['body'].str.contains('maconha')]\n",
    "```\n",
    "\n",
    "#### Ver mensagens que contenham a palavra 'maconha' mostrando apenas as colunas 'id' e 'body'\n",
    "```python\n",
    "df[df['body'].str.contains('maconha')][['id', 'body']]\n",
    "```\n",
    "\n",
    "#### Contar quantas mensagens possuem a palavra 'maconha':\n",
    "```python\n",
    "len(df[df['body'].str.contains('maconha')])\n",
    "```\n",
    "\n",
    "#### Somente mensagens com a palavra 'maconha', 'farinha' ou 'oleo'\n",
    "```python\n",
    "df[df['body'].str.contains('maconha|farinha|oleo')]\n",
    "```\n",
    "\n",
    "#### Somente mensagens com a palavra 'maconha', 'farinha', 'oleo' ou 'olio'\n",
    "```python\n",
    "df[df['body'].str.contains('maconha|farinha|ol[ei]o')]\n",
    "```\n",
    "\n",
    "#### Excluir as conversas de id números 12, 13 e 15\n",
    "```python\n",
    "df[~df.chat_id.isin(['12', '13', '15'])]\n",
    "```\n",
    "\n",
    "#### Somente as conversas cujo id seja 12, 13 ou 15\n",
    "```python\n",
    "df[df.chat_id.isin(['12', '13', '15'])]\n",
    "```\n",
    "\n",
    "#### Somente as conversas cujo nome do chat contenha \"7555\" ou \"Jhon\"\n",
    "```python\n",
    "df[df['formatted_chat_name'].str.contains('7555|Jhon')]\n",
    "```\n",
    "\n",
    "#### Somente as conversas de conversas onde o contato \"Menoor da Beka\" é participante\n",
    "```python\n",
    "df[df['participants'].str.contains('Menoor da Beka')]\n",
    "```\n",
    "\n",
    "\n",
    "## Outros\n",
    "\n",
    "#### Gerar lista de ids para copiar e colar na lista de destaques\n",
    "```python\n",
    "#filtrar\n",
    "df2 = df[df['body'].str.contains('maconha|farinha|oleo')]\n",
    "\n",
    "#gerar \n",
    "\" \".join([str(item) for item in df2['id']])\n",
    "```\n"
   ]
  }
 ],
 "metadata": {
  "kernelspec": {
   "display_name": "Python 3",
   "language": "python",
   "name": "python3"
  },
  "language_info": {
   "codemirror_mode": {
    "name": "ipython",
    "version": 3
   },
   "file_extension": ".py",
   "mimetype": "text/x-python",
   "name": "python",
   "nbconvert_exporter": "python",
   "pygments_lexer": "ipython3",
   "version": "3.6.3"
  }
 },
 "nbformat": 4,
 "nbformat_minor": 2
}
