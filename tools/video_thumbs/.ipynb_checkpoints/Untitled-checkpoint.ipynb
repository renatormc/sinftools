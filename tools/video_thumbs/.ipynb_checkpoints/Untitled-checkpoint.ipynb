{
 "cells": [
  {
   "cell_type": "code",
   "execution_count": 1,
   "metadata": {},
   "outputs": [],
   "source": [
    "import cv2\n",
    "import os\n",
    "import numpy as np\n",
    "from pathlib import Path"
   ]
  },
  {
   "cell_type": "code",
   "execution_count": null,
   "metadata": {},
   "outputs": [],
   "source": []
  },
  {
   "cell_type": "code",
   "execution_count": 2,
   "metadata": {},
   "outputs": [],
   "source": [
    "def image_to_thumb(img, size):\n",
    "    height, width, channels = img.shape\n",
    "    if (width >= size):\n",
    "        r = (size + 0.0) / width\n",
    "        max_size = (size, int(height * r))\n",
    "        try:\n",
    "            return cv2.resize(img, max_size, interpolation=cv2.INTER_AREA)\n",
    "        except:\n",
    "            return None\n",
    "\n",
    "def video_to_frames(video_filename, n):\n",
    "    \"\"\"Extract frames from video\"\"\"\n",
    "    cap = cv2.VideoCapture(video_filename)\n",
    "    video_length = int(cap.get(cv2.CAP_PROP_FRAME_COUNT)) - 1\n",
    "    frames = []\n",
    "    if cap.isOpened() and video_length > 0:\n",
    "        frame_ids = [0]\n",
    "        if video_length >= n:\n",
    "            step = 1/(n-1)\n",
    "            frame_ids = [round(video_length*step*i) for i in range(n)]\n",
    "        count = 0\n",
    "        success, image = cap.read()\n",
    "        while success:\n",
    "            if count in frame_ids:\n",
    "                frames.append(image)\n",
    "            success, image = cap.read()\n",
    "            count += 1\n",
    "    return frames\n",
    "\n",
    "def generate_video_thumb(filename, size, n_rows, n_cols):\n",
    "    n = n_rows*n_cols\n",
    "    frames = video_to_frames(filename, n)\n",
    "    thumb_parts = [image_to_thumb(frame, size) for frame in frames]\n",
    "    if thumb_parts:\n",
    "        rows = []\n",
    "        for i in range(0, len(thumb_parts), n_cols):  \n",
    "            rows.append(thumb_parts[i:i + n_cols] )\n",
    "        try:\n",
    "            imgs = []\n",
    "            for row in rows:\n",
    "                img = np.concatenate(tuple(row), axis=1)\n",
    "                imgs.append(img)\n",
    "#             return imgs\n",
    "            return np.concatenate(tuple(imgs), axis=0)\n",
    "        except:\n",
    "            pass"
   ]
  },
  {
   "cell_type": "code",
   "execution_count": 3,
   "metadata": {},
   "outputs": [],
   "source": [
    "def is_video_file(path):\n",
    "    video_file_extensions = (\n",
    "    '.264', '.3g2', '.3gp', '.3gp2', '.3gpp', '.3gpp2', '.3mm', '.3p2', '.60d', '.787', '.89', '.aaf', '.aec', '.aep', '.aepx',\n",
    "    '.aet', '.aetx', '.ajp', '.ale', '.am', '.amc', '.amv', '.amx', '.anim', '.aqt', '.arcut', '.arf', '.asf', '.asx', '.avb',\n",
    "    '.avc', '.avd', '.avi', '.avp', '.avs', '.avs', '.avv', '.axm', '.bdm', '.bdmv', '.bdt2', '.bdt3', '.bik', '.bin', '.bix',\n",
    "    '.bmk', '.bnp', '.box', '.bs4', '.bsf', '.bvr', '.byu', '.camproj', '.camrec', '.camv', '.ced', '.cel', '.cine', '.cip',\n",
    "    '.clpi', '.cmmp', '.cmmtpl', '.cmproj', '.cmrec', '.cpi', '.cst', '.cvc', '.cx3', '.d2v', '.d3v', '.dat', '.dav', '.dce',\n",
    "    '.dck', '.dcr', '.dcr', '.ddat', '.dif', '.dir', '.divx', '.dlx', '.dmb', '.dmsd', '.dmsd3d', '.dmsm', '.dmsm3d', '.dmss',\n",
    "    '.dmx', '.dnc', '.dpa', '.dpg', '.dream', '.dsy', '.dv', '.dv-avi', '.dv4', '.dvdmedia', '.dvr', '.dvr-ms', '.dvx', '.dxr',\n",
    "    '.dzm', '.dzp', '.dzt', '.edl', '.evo', '.eye', '.ezt', '.f4p', '.f4v', '.fbr', '.fbr', '.fbz', '.fcp', '.fcproject',\n",
    "    '.ffd', '.flc', '.flh', '.fli', '.flv', '.flx', '.gfp', '.gl', '.gom', '.grasp', '.gts', '.gvi', '.gvp', '.h264', '.hdmov',\n",
    "    '.hkm', '.ifo', '.imovieproj', '.imovieproject', '.ircp', '.irf', '.ism', '.ismc', '.ismv', '.iva', '.ivf', '.ivr', '.ivs',\n",
    "    '.izz', '.izzy', '.jss', '.jts', '.jtv', '.k3g', '.kmv', '.ktn', '.lrec', '.lsf', '.lsx', '.m15', '.m1pg', '.m1v', '.m21',\n",
    "    '.m21', '.m2a', '.m2p', '.m2t', '.m2ts', '.m2v', '.m4e', '.m4u', '.m4v', '.m75', '.mani', '.meta', '.mgv', '.mj2', '.mjp',\n",
    "    '.mjpg', '.mk3d', '.mkv', '.mmv', '.mnv', '.mob', '.mod', '.modd', '.moff', '.moi', '.moov', '.mov', '.movie', '.mp21',\n",
    "    '.mp21', '.mp2v', '.mp4', '.mp4v', '.mpe', '.mpeg', '.mpeg1', '.mpeg4', '.mpf', '.mpg', '.mpg2', '.mpgindex', '.mpl',\n",
    "    '.mpl', '.mpls', '.mpsub', '.mpv', '.mpv2', '.mqv', '.msdvd', '.mse', '.msh', '.mswmm', '.mts', '.mtv', '.mvb', '.mvc',\n",
    "    '.mvd', '.mve', '.mvex', '.mvp', '.mvp', '.mvy', '.mxf', '.mxv', '.mys', '.ncor', '.nsv', '.nut', '.nuv', '.nvc', '.ogm',\n",
    "    '.ogv', '.ogx', '.osp', '.otrkey', '.pac', '.par', '.pds', '.pgi', '.photoshow', '.piv', '.pjs', '.playlist', '.plproj',\n",
    "    '.pmf', '.pmv', '.pns', '.ppj', '.prel', '.pro', '.prproj', '.prtl', '.psb', '.psh', '.pssd', '.pva', '.pvr', '.pxv',\n",
    "    '.qt', '.qtch', '.qtindex', '.qtl', '.qtm', '.qtz', '.r3d', '.rcd', '.rcproject', '.rdb', '.rec', '.rm', '.rmd', '.rmd',\n",
    "    '.rmp', '.rms', '.rmv', '.rmvb', '.roq', '.rp', '.rsx', '.rts', '.rts', '.rum', '.rv', '.rvid', '.rvl', '.sbk', '.sbt',\n",
    "    '.scc', '.scm', '.scm', '.scn', '.screenflow', '.sec', '.sedprj', '.seq', '.sfd', '.sfvidcap', '.siv', '.smi', '.smi',\n",
    "    '.smil', '.smk', '.sml', '.smv', '.spl', '.sqz', '.srt', '.ssf', '.ssm', '.stl', '.str', '.stx', '.svi', '.swf', '.swi',\n",
    "    '.swt', '.tda3mt', '.tdx', '.thp', '.tivo', '.tix', '.tod', '.tp', '.tp0', '.tpd', '.tpr', '.trp', '.ts', '.tsp', '.ttxt',\n",
    "    '.tvs', '.usf', '.usm', '.vc1', '.vcpf', '.vcr', '.vcv', '.vdo', '.vdr', '.vdx', '.veg','.vem', '.vep', '.vf', '.vft',\n",
    "    '.vfw', '.vfz', '.vgz', '.vid', '.video', '.viewlet', '.viv', '.vivo', '.vlab', '.vob', '.vp3', '.vp6', '.vp7', '.vpj',\n",
    "    '.vro', '.vs4', '.vse', '.vsp', '.w32', '.wcp', '.webm', '.wlmp', '.wm', '.wmd', '.wmmp', '.wmv', '.wmx', '.wot', '.wp3',\n",
    "    '.wpl', '.wtv', '.wve', '.wvx', '.xej', '.xel', '.xesc', '.xfl', '.xlmv', '.xmv', '.xvid', '.y4m', '.yog', '.yuv', '.zeg',\n",
    "    '.zm1', '.zm2', '.zm3', '.zmv'  )\n",
    "\n",
    "    if path.endswith((video_file_extensions)):\n",
    "        return True\n",
    "    return False"
   ]
  },
  {
   "cell_type": "code",
   "execution_count": null,
   "metadata": {},
   "outputs": [],
   "source": [
    "n_rows = 3\n",
    "n_cols = 3\n",
    "size = 300\n",
    "source_dir = r'C:\\Users\\renato\\Desktop\\temp\\Motorola\\files'\n",
    "dest_dir = r'C:\\temp\\teste'\n",
    "extension = \".png\"\n",
    "videos = []\n",
    "for root, folders, files in os.walk(source_dir):\n",
    "    for file in files:\n",
    "        path_original = f\"{root}\\\\{file}\"\n",
    "        if is_video_file(path_original):\n",
    "            videos.append(path_original)\n",
    "            \n",
    "errors = []   \n",
    "for video in videos:\n",
    "    rel_path = os.path.relpath(video, source_dir)\n",
    "    pre, ext = os.path.splitext(rel_path)\n",
    "    path_dest = f\"{dest_dir}\\\\{pre}{extension}\"\n",
    "    parent = os.path.dirname(path_dest)\n",
    "    if not os.path.exists(parent):\n",
    "        os.makedirs(parent)\n",
    "    img = generate_video_thumb(video, size, n_rows, n_cols)\n",
    "    if img:\n",
    "        cv2.imwrite(path_dest, img)\n",
    "    else:\n",
    "        errors.append(video)\n",
    "# img = generate_video_thumb(file_, size, n_rows, n_cols)\n",
    "# cv2.imwrite(f\"img.png\", img)"
   ]
  },
  {
   "cell_type": "code",
   "execution_count": null,
   "metadata": {},
   "outputs": [],
   "source": [
    "os.path.relpath(\"c:\\\\temp\\\\teste.pnp\", \"C:\\\\\")\n"
   ]
  },
  {
   "cell_type": "code",
   "execution_count": null,
   "metadata": {},
   "outputs": [],
   "source": []
  },
  {
   "cell_type": "code",
   "execution_count": null,
   "metadata": {},
   "outputs": [],
   "source": []
  },
  {
   "cell_type": "code",
   "execution_count": null,
   "metadata": {},
   "outputs": [],
   "source": []
  }
 ],
 "metadata": {
  "kernelspec": {
   "display_name": "Python 3",
   "language": "python",
   "name": "python3"
  },
  "language_info": {
   "codemirror_mode": {
    "name": "ipython",
    "version": 3
   },
   "file_extension": ".py",
   "mimetype": "text/x-python",
   "name": "python",
   "nbconvert_exporter": "python",
   "pygments_lexer": "ipython3",
   "version": "3.6.3"
  }
 },
 "nbformat": 4,
 "nbformat_minor": 2
}
